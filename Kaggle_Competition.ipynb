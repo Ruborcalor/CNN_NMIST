{
  "nbformat": 4,
  "nbformat_minor": 0,
  "metadata": {
    "colab": {
      "name": "Kaggle Competition",
      "provenance": [],
      "include_colab_link": true
    },
    "kernelspec": {
      "name": "python3",
      "display_name": "Python 3"
    },
    "accelerator": "GPU"
  },
  "cells": [
    {
      "cell_type": "markdown",
      "metadata": {
        "id": "view-in-github",
        "colab_type": "text"
      },
      "source": [
        "<a href=\"https://colab.research.google.com/github/Ruborcalor/CNN_NMIST/blob/master/Kaggle_Competition.ipynb\" target=\"_parent\"><img src=\"https://colab.research.google.com/assets/colab-badge.svg\" alt=\"Open In Colab\"/></a>"
      ]
    },
    {
      "cell_type": "code",
      "metadata": {
        "id": "rnPfTzQrESyC",
        "colab_type": "code",
        "colab": {}
      },
      "source": [
        "import pandas as pd\n",
        "import numpy as np"
      ],
      "execution_count": 0,
      "outputs": []
    },
    {
      "cell_type": "code",
      "metadata": {
        "id": "ID6tIV7EY2un",
        "colab_type": "code",
        "colab": {}
      },
      "source": [
        "!mkdir -p ~/.kaggle\n",
        "!cp kaggle.json ~/.kaggle/kaggle.json\n",
        "!chmod 600 /root/.kaggle/kaggle.json"
      ],
      "execution_count": 0,
      "outputs": []
    },
    {
      "cell_type": "code",
      "metadata": {
        "id": "Ke86tVgNGX39",
        "colab_type": "code",
        "colab": {
          "base_uri": "https://localhost:8080/",
          "height": 53
        },
        "outputId": "0ad99fe9-5a00-483b-bf93-9d563b677b06"
      },
      "source": [
        "!rm sample_submission.csv\n",
        "!rm submission.csv"
      ],
      "execution_count": 3,
      "outputs": [
        {
          "output_type": "stream",
          "text": [
            "rm: cannot remove 'sample_submission.csv': No such file or directory\n",
            "rm: cannot remove 'submission.csv': No such file or directory\n"
          ],
          "name": "stdout"
        }
      ]
    },
    {
      "cell_type": "code",
      "metadata": {
        "id": "XImLLsSlXCOi",
        "colab_type": "code",
        "outputId": "73db546c-ba03-46a9-c36c-7a790f9452df",
        "colab": {
          "base_uri": "https://localhost:8080/",
          "height": 303
        }
      },
      "source": [
        "!kaggle competitions download -c mais202-fall2019"
      ],
      "execution_count": 4,
      "outputs": [
        {
          "output_type": "stream",
          "text": [
            "Warning: Looks like you're using an outdated API Version, please consider updating (server 1.5.6 / client 1.5.4)\n",
            "Downloading test_images.npy.zip to /content\n",
            "100% 20.7M/20.7M [00:00<00:00, 24.8MB/s]\n",
            "\n",
            "Downloading label_int_to_str_mapping.csv to /content\n",
            "  0% 0.00/127 [00:00<?, ?B/s]\n",
            "100% 127/127 [00:00<00:00, 125kB/s]\n",
            "Downloading train_labels.csv to /content\n",
            "  0% 0.00/429k [00:00<?, ?B/s]\n",
            "100% 429k/429k [00:00<00:00, 131MB/s]\n",
            "Downloading train_images.npy.zip to /content\n",
            " 79% 41.0M/51.7M [00:00<00:00, 52.9MB/s]\n",
            "100% 51.7M/51.7M [00:00<00:00, 88.1MB/s]\n",
            "Downloading sample_submission.csv to /content\n",
            "  0% 0.00/165k [00:00<?, ?B/s]\n",
            "100% 165k/165k [00:00<00:00, 54.3MB/s]\n"
          ],
          "name": "stdout"
        }
      ]
    },
    {
      "cell_type": "code",
      "metadata": {
        "id": "qT846e43Z2eE",
        "colab_type": "code",
        "outputId": "40d29059-f583-4dc2-e01f-56d0c4663b72",
        "colab": {
          "base_uri": "https://localhost:8080/",
          "height": 88
        }
      },
      "source": [
        "!unzip /content/train_images.npy.zip\n",
        "!unzip /content/test_images.npy.zip"
      ],
      "execution_count": 5,
      "outputs": [
        {
          "output_type": "stream",
          "text": [
            "Archive:  /content/train_images.npy.zip\n",
            "  inflating: train_images.npy        \n",
            "Archive:  /content/test_images.npy.zip\n",
            "  inflating: test_images.npy         \n"
          ],
          "name": "stdout"
        }
      ]
    },
    {
      "cell_type": "code",
      "metadata": {
        "id": "EQ9yPgCIYU5w",
        "colab_type": "code",
        "outputId": "2865f749-5432-4cc8-a5e6-86e2cdfc973d",
        "colab": {
          "base_uri": "https://localhost:8080/",
          "height": 88
        }
      },
      "source": [
        "train_images = np.load(\"train_images.npy\")\n",
        "test_images = np.load(\"test_images.npy\")\n",
        "\n",
        "train_labels = np.loadtxt(open(\"train_labels.csv\", \"rb\"), delimiter=\",\", skiprows=1)\n",
        "train_labels = train_labels[:, 1]\n",
        "\n",
        "train_images, test_images = train_images / 255.0, test_images / 255.0\n",
        "\n",
        "train_images = train_images.reshape(*train_images.shape, 1)\n",
        "test_images = test_images.reshape(*test_images.shape, 1)\n",
        "\n",
        "from sklearn.model_selection import train_test_split\n",
        "train_images, valid_images, train_labels, valid_labels = train_test_split(train_images, train_labels, test_size=0.1, random_state=12345)\n",
        "\n",
        "print(train_images.shape)\n",
        "print(valid_images.shape)\n",
        "print(train_labels.shape)\n",
        "print(valid_labels.shape)"
      ],
      "execution_count": 6,
      "outputs": [
        {
          "output_type": "stream",
          "text": [
            "(45000, 28, 28, 1)\n",
            "(5000, 28, 28, 1)\n",
            "(45000,)\n",
            "(5000,)\n"
          ],
          "name": "stdout"
        }
      ]
    },
    {
      "cell_type": "code",
      "metadata": {
        "id": "E8uyYAffaCxJ",
        "colab_type": "code",
        "outputId": "10db7936-4db4-4ed5-c28a-cffde942a623",
        "colab": {
          "base_uri": "https://localhost:8080/",
          "height": 265
        }
      },
      "source": [
        "import matplotlib.pyplot as plt\n",
        "\n",
        "def show_image(arr):\n",
        "    two_d = (np.reshape(arr, (28, 28)) * 255).astype(np.uint8)\n",
        "    plt.imshow(two_d, interpolation='nearest')\n",
        "    plt.show()\n",
        "\n",
        "show_image(train_images[3]) # 0 is the index of the training image you want to display"
      ],
      "execution_count": 7,
      "outputs": [
        {
          "output_type": "display_data",
          "data": {
            "image/png": "[encoded data removed]",
            "text/plain": [
              "<Figure size 432x288 with 1 Axes>"
            ]
          },
          "metadata": {
            "tags": []
          }
        }
      ]
    },
    {
      "cell_type": "code",
      "metadata": {
        "id": "leM-IVLIaVSz",
        "colab_type": "code",
        "outputId": "b52c88d4-8230-4adc-bbe0-b9064fa7f4c4",
        "colab": {
          "base_uri": "https://localhost:8080/",
          "height": 35
        }
      },
      "source": [
        "from __future__ import absolute_import, division, print_function, unicode_literals\n",
        "\n",
        "# Install TensorFlow\n",
        "try:\n",
        "  # %tensorflow_version only exists in Colab.\n",
        "  %tensorflow_version 2.x\n",
        "except Exception:\n",
        "  pass\n",
        "\n",
        "import tensorflow as tf"
      ],
      "execution_count": 8,
      "outputs": [
        {
          "output_type": "stream",
          "text": [
            "TensorFlow 2.x selected.\n"
          ],
          "name": "stdout"
        }
      ]
    },
    {
      "cell_type": "code",
      "metadata": {
        "id": "jFI_5KBSasOy",
        "colab_type": "code",
        "outputId": "70d68dd9-a3d6-4658-b409-7875574c73d6",
        "colab": {
          "base_uri": "https://localhost:8080/",
          "height": 589
        }
      },
      "source": [
        "# model = tf.keras.models.Sequential([\n",
        "#   tf.keras.layers.Conv2D(filters=32,kernel_size=3,activation='relu',input_shape = (28, 28, 1)),\n",
        "#   tf.keras.layers.MaxPooling2D(pool_size=2),\n",
        "#   tf.keras.layers.Conv2D(filters=32,kernel_size=3,activation='relu'),\n",
        "#   tf.keras.layers.MaxPooling2D(pool_size=2),\n",
        "#   tf.keras.layers.Flatten(),\n",
        "#   tf.keras.layers.Dense(128, activation='relu'),\n",
        "#   tf.keras.layers.Dropout(0.2),\n",
        "#   tf.keras.layers.Dense(10, activation='softmax')\n",
        "# ])\n",
        "# model = tf.keras.models.Sequential([\n",
        "#     tf.keras.layers.Conv2D(filters=16,kernel_size=3,activation='relu',input_shape = (28, 28, 1)),\n",
        "#     tf.keras.layers.MaxPooling2D(pool_size=2) ,\n",
        "#     tf.keras.layers.Dropout(0.2),\n",
        "#     tf.keras.layers.Conv2D(filters=16,kernel_size=3,activation='relu'),\n",
        "#     tf.keras.layers.Conv2D(filters=32,kernel_size=5,activation='relu'),\n",
        "#     tf.keras.layers.MaxPooling2D(pool_size=2) ,\n",
        "#     tf.keras.layers.Flatten(), # flatten out the layers\n",
        "#     tf.keras.layers.Dense(128,activation='relu'),\n",
        "#     tf.keras.layers.Dense(10,activation = 'softmax')\n",
        "# ])\n",
        "model = tf.keras.models.Sequential([\n",
        "    tf.keras.layers.Conv2D(32, kernel_size=(3, 3), padding=\"same\", activation='relu', input_shape=(28, 28, 1)),\n",
        "    tf.keras.layers.Dropout(0.10), \n",
        "    tf.keras.layers.MaxPooling2D((2, 2)),\n",
        "    tf.keras.layers.Conv2D(64, 5, padding=\"same\", activation='relu'),\n",
        "    tf.keras.layers.Dropout(0.20), \n",
        "    tf.keras.layers.MaxPooling2D(pool_size=(2, 2)),\n",
        "    tf.keras.layers.Flatten(),\n",
        "    tf.keras.layers.Dense(256, activation='relu'),\n",
        "    tf.keras.layers.Dropout(0.20), \n",
        "    tf.keras.layers.Dense(256, activation='relu'),\n",
        "    tf.keras.layers.Dropout(0.2),\n",
        "    tf.keras.layers.Dense(10, activation='softmax')\n",
        "])\n",
        "\n",
        "model.summary()\n",
        "model.compile(optimizer='adam',\n",
        "              loss='sparse_categorical_crossentropy',\n",
        "              metrics=['accuracy'])"
      ],
      "execution_count": 32,
      "outputs": [
        {
          "output_type": "stream",
          "text": [
            "Model: \"sequential_13\"\n",
            "_________________________________________________________________\n",
            "Layer (type)                 Output Shape              Param #   \n",
            "=================================================================\n",
            "conv2d_26 (Conv2D)           (None, 28, 28, 32)        320       \n",
            "_________________________________________________________________\n",
            "dropout_28 (Dropout)         (None, 28, 28, 32)        0         \n",
            "_________________________________________________________________\n",
            "max_pooling2d_26 (MaxPooling (None, 14, 14, 32)        0         \n",
            "_________________________________________________________________\n",
            "conv2d_27 (Conv2D)           (None, 14, 14, 64)        51264     \n",
            "_________________________________________________________________\n",
            "dropout_29 (Dropout)         (None, 14, 14, 64)        0         \n",
            "_________________________________________________________________\n",
            "max_pooling2d_27 (MaxPooling (None, 7, 7, 64)          0         \n",
            "_________________________________________________________________\n",
            "flatten_13 (Flatten)         (None, 3136)              0         \n",
            "_________________________________________________________________\n",
            "dense_31 (Dense)             (None, 256)               803072    \n",
            "_________________________________________________________________\n",
            "dropout_30 (Dropout)         (None, 256)               0         \n",
            "_________________________________________________________________\n",
            "dense_32 (Dense)             (None, 256)               65792     \n",
            "_________________________________________________________________\n",
            "dropout_31 (Dropout)         (None, 256)               0         \n",
            "_________________________________________________________________\n",
            "dense_33 (Dense)             (None, 10)                2570      \n",
            "=================================================================\n",
            "Total params: 923,018\n",
            "Trainable params: 923,018\n",
            "Non-trainable params: 0\n",
            "_________________________________________________________________\n"
          ],
          "name": "stdout"
        }
      ]
    },
    {
      "cell_type": "code",
      "metadata": {
        "id": "eSnT89t2a397",
        "colab_type": "code",
        "outputId": "481c0938-2072-43fe-d577-2d9a18071a9a",
        "colab": {
          "base_uri": "https://localhost:8080/",
          "height": 555
        }
      },
      "source": [
        "model.fit(train_images, train_labels,  epochs=25, validation_data=(valid_images, valid_labels))"
      ],
      "execution_count": 0,
      "outputs": [
        {
          "output_type": "stream",
          "text": [
            "Train on 45000 samples, validate on 5000 samples\n",
            "Epoch 1/25\n",
            "45000/45000 [==============================] - 15s 329us/sample - loss: 0.6839 - accuracy: 0.7406 - val_loss: 0.4833 - val_accuracy: 0.8344\n",
            "Epoch 2/25\n",
            "45000/45000 [==============================] - 13s 289us/sample - loss: 0.4698 - accuracy: 0.8262 - val_loss: 0.4080 - val_accuracy: 0.8548\n",
            "Epoch 3/25\n",
            "45000/45000 [==============================] - 13s 290us/sample - loss: 0.4149 - accuracy: 0.8471 - val_loss: 0.3775 - val_accuracy: 0.8646\n",
            "Epoch 4/25\n",
            "45000/45000 [==============================] - 13s 289us/sample - loss: 0.3770 - accuracy: 0.8604 - val_loss: 0.3779 - val_accuracy: 0.8540\n",
            "Epoch 5/25\n",
            "45000/45000 [==============================] - 13s 292us/sample - loss: 0.3513 - accuracy: 0.8682 - val_loss: 0.3347 - val_accuracy: 0.8794\n",
            "Epoch 6/25\n",
            "45000/45000 [==============================] - 13s 291us/sample - loss: 0.3314 - accuracy: 0.8759 - val_loss: 0.3550 - val_accuracy: 0.8658\n",
            "Epoch 7/25\n",
            "45000/45000 [==============================] - 13s 292us/sample - loss: 0.3145 - accuracy: 0.8817 - val_loss: 0.3336 - val_accuracy: 0.8808\n",
            "Epoch 8/25\n",
            "45000/45000 [==============================] - 13s 289us/sample - loss: 0.2973 - accuracy: 0.8878 - val_loss: 0.3260 - val_accuracy: 0.8826\n",
            "Epoch 9/25\n",
            "45000/45000 [==============================] - 13s 286us/sample - loss: 0.2818 - accuracy: 0.8943 - val_loss: 0.3337 - val_accuracy: 0.8738\n",
            "Epoch 10/25\n",
            "45000/45000 [==============================] - 13s 286us/sample - loss: 0.2695 - accuracy: 0.8975 - val_loss: 0.3226 - val_accuracy: 0.8776\n",
            "Epoch 11/25\n",
            "45000/45000 [==============================] - 13s 294us/sample - loss: 0.2586 - accuracy: 0.9025 - val_loss: 0.3283 - val_accuracy: 0.8804\n",
            "Epoch 12/25\n",
            "45000/45000 [==============================] - 13s 286us/sample - loss: 0.2442 - accuracy: 0.9061 - val_loss: 0.3342 - val_accuracy: 0.8770\n",
            "Epoch 13/25\n",
            "45000/45000 [==============================] - 13s 285us/sample - loss: 0.2394 - accuracy: 0.9083 - val_loss: 0.3346 - val_accuracy: 0.8772\n",
            "Epoch 14/25\n",
            " 9888/45000 [=====>........................] - ETA: 9s - loss: 0.2235 - accuracy: 0.9131"
          ],
          "name": "stdout"
        }
      ]
    },
    {
      "cell_type": "code",
      "metadata": {
        "id": "-XvLgZNMT4ug",
        "colab_type": "code",
        "colab": {
          "base_uri": "https://localhost:8080/",
          "height": 609
        },
        "outputId": "727e6065-b14e-45e8-e66c-94b276bb2789"
      },
      "source": [
        "model.fit(train_images, train_labels,  epochs=15, validation_data=(valid_images, valid_labels))"
      ],
      "execution_count": 12,
      "outputs": [
        {
          "output_type": "stream",
          "text": [
            "Train on 45000 samples, validate on 5000 samples\n",
            "Epoch 1/15\n",
            "45000/45000 [==============================] - 12s 260us/sample - loss: 0.2831 - accuracy: 0.8905 - val_loss: 0.3478 - val_accuracy: 0.8740\n",
            "Epoch 2/15\n",
            "45000/45000 [==============================] - 12s 259us/sample - loss: 0.2752 - accuracy: 0.8941 - val_loss: 0.3542 - val_accuracy: 0.8786\n",
            "Epoch 3/15\n",
            "45000/45000 [==============================] - 12s 268us/sample - loss: 0.2680 - accuracy: 0.8972 - val_loss: 0.3478 - val_accuracy: 0.8820\n",
            "Epoch 4/15\n",
            "45000/45000 [==============================] - 12s 260us/sample - loss: 0.2629 - accuracy: 0.8975 - val_loss: 0.3506 - val_accuracy: 0.8788\n",
            "Epoch 5/15\n",
            "45000/45000 [==============================] - 12s 258us/sample - loss: 0.2601 - accuracy: 0.8993 - val_loss: 0.3535 - val_accuracy: 0.8794\n",
            "Epoch 6/15\n",
            "45000/45000 [==============================] - 12s 259us/sample - loss: 0.2512 - accuracy: 0.9016 - val_loss: 0.3565 - val_accuracy: 0.8812\n",
            "Epoch 7/15\n",
            "45000/45000 [==============================] - 12s 258us/sample - loss: 0.2516 - accuracy: 0.9006 - val_loss: 0.3558 - val_accuracy: 0.8738\n",
            "Epoch 8/15\n",
            "45000/45000 [==============================] - 12s 257us/sample - loss: 0.2425 - accuracy: 0.9044 - val_loss: 0.3536 - val_accuracy: 0.8826\n",
            "Epoch 9/15\n",
            "45000/45000 [==============================] - 12s 258us/sample - loss: 0.2345 - accuracy: 0.9077 - val_loss: 0.3724 - val_accuracy: 0.8822\n",
            "Epoch 10/15\n",
            "45000/45000 [==============================] - 12s 257us/sample - loss: 0.2363 - accuracy: 0.9072 - val_loss: 0.3633 - val_accuracy: 0.8810\n",
            "Epoch 11/15\n",
            "45000/45000 [==============================] - 12s 261us/sample - loss: 0.2291 - accuracy: 0.9098 - val_loss: 0.3821 - val_accuracy: 0.8790\n",
            "Epoch 12/15\n",
            "45000/45000 [==============================] - 12s 258us/sample - loss: 0.2238 - accuracy: 0.9100 - val_loss: 0.3871 - val_accuracy: 0.8762\n",
            "Epoch 13/15\n",
            "45000/45000 [==============================] - 12s 261us/sample - loss: 0.2191 - accuracy: 0.9140 - val_loss: 0.3903 - val_accuracy: 0.8764\n",
            "Epoch 14/15\n",
            "45000/45000 [==============================] - 12s 260us/sample - loss: 0.2206 - accuracy: 0.9130 - val_loss: 0.3906 - val_accuracy: 0.8778\n",
            "Epoch 15/15\n",
            "45000/45000 [==============================] - 12s 258us/sample - loss: 0.2156 - accuracy: 0.9159 - val_loss: 0.3939 - val_accuracy: 0.8750\n"
          ],
          "name": "stdout"
        },
        {
          "output_type": "execute_result",
          "data": {
            "text/plain": [
              "<tensorflow.python.keras.callbacks.History at 0x7f30ba0f1b00>"
            ]
          },
          "metadata": {
            "tags": []
          },
          "execution_count": 12
        }
      ]
    },
    {
      "cell_type": "code",
      "metadata": {
        "id": "jC1dDm3JX8O1",
        "colab_type": "code",
        "colab": {}
      },
      "source": [
        "model.evaluate(x_test,  y_test, verbose=2)"
      ],
      "execution_count": 0,
      "outputs": []
    },
    {
      "cell_type": "code",
      "metadata": {
        "id": "m8GfKgGqaUV5",
        "colab_type": "code",
        "colab": {}
      },
      "source": [
        "# for generating submission\n",
        "\n",
        "y_test = model.predict(test_images)\n",
        "y_test = np.argmax(y_test, axis=1)\n",
        "print(y_test.shape)\n",
        "\n",
        "df_test = pd.read_csv('sample_submission.csv')\n",
        "df_test['label'] = y_test2\n",
        "df_test.to_csv('submission.csv', index=False)"
      ],
      "execution_count": 0,
      "outputs": []
    },
    {
      "cell_type": "code",
      "metadata": {
        "id": "No40RNsgth-X",
        "colab_type": "code",
        "colab": {}
      },
      "source": [
        "from google.colab import drive\n",
        "drive.mount('/content/drive')"
      ],
      "execution_count": 0,
      "outputs": []
    }
  ]
}