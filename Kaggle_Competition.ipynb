{
  "nbformat": 4,
  "nbformat_minor": 0,
  "metadata": {
    "colab": {
      "name": "Kaggle Competition",
      "provenance": [],
      "include_colab_link": true
    },
    "kernelspec": {
      "name": "python3",
      "display_name": "Python 3"
    },
    "accelerator": "GPU"
  },
  "cells": [
    {
      "cell_type": "markdown",
      "metadata": {
        "id": "view-in-github",
        "colab_type": "text"
      },
      "source": [
        "<a href=\"https://colab.research.google.com/github/Ruborcalor/CNN_NMIST/blob/master/Kaggle_Competition.ipynb\" target=\"_parent\"><img src=\"https://colab.research.google.com/assets/colab-badge.svg\" alt=\"Open In Colab\"/></a>"
      ]
    },
    {
      "cell_type": "code",
      "metadata": {
        "id": "rnPfTzQrESyC",
        "colab_type": "code",
        "colab": {}
      },
      "source": [
        "#imports\n",
        "\n",
        "import pandas as pd\n",
        "import numpy as np"
      ],
      "execution_count": 0,
      "outputs": []
    },
    {
      "cell_type": "code",
      "metadata": {
        "id": "ID6tIV7EY2un",
        "colab_type": "code",
        "colab": {}
      },
      "source": [
        "# setup for kaggle api. Must upload kaggle.json file\n",
        "!mkdir -p ~/.kaggle\n",
        "!cp kaggle.json ~/.kaggle/kaggle.json\n",
        "!chmod 600 /root/.kaggle/kaggle.json"
      ],
      "execution_count": 0,
      "outputs": []
    },
    {
      "cell_type": "code",
      "metadata": {
        "id": "XImLLsSlXCOi",
        "colab_type": "code",
        "outputId": "73db546c-ba03-46a9-c36c-7a790f9452df",
        "colab": {
          "base_uri": "https://localhost:8080/",
          "height": 303
        }
      },
      "source": [
        "# download kaggle competitions datasets\n",
        "!kaggle competitions download -c mais202-fall2019"
      ],
      "execution_count": 4,
      "outputs": [
        {
          "output_type": "stream",
          "text": [
            "Warning: Looks like you're using an outdated API Version, please consider updating (server 1.5.6 / client 1.5.4)\n",
            "Downloading test_images.npy.zip to /content\n",
            "100% 20.7M/20.7M [00:00<00:00, 24.8MB/s]\n",
            "\n",
            "Downloading label_int_to_str_mapping.csv to /content\n",
            "  0% 0.00/127 [00:00<?, ?B/s]\n",
            "100% 127/127 [00:00<00:00, 125kB/s]\n",
            "Downloading train_labels.csv to /content\n",
            "  0% 0.00/429k [00:00<?, ?B/s]\n",
            "100% 429k/429k [00:00<00:00, 131MB/s]\n",
            "Downloading train_images.npy.zip to /content\n",
            " 79% 41.0M/51.7M [00:00<00:00, 52.9MB/s]\n",
            "100% 51.7M/51.7M [00:00<00:00, 88.1MB/s]\n",
            "Downloading sample_submission.csv to /content\n",
            "  0% 0.00/165k [00:00<?, ?B/s]\n",
            "100% 165k/165k [00:00<00:00, 54.3MB/s]\n"
          ],
          "name": "stdout"
        }
      ]
    },
    {
      "cell_type": "code",
      "metadata": {
        "id": "qT846e43Z2eE",
        "colab_type": "code",
        "outputId": "40d29059-f583-4dc2-e01f-56d0c4663b72",
        "colab": {
          "base_uri": "https://localhost:8080/",
          "height": 88
        }
      },
      "source": [
        "# unzip kaggle datasets\n",
        "!unzip /content/train_images.npy.zip\n",
        "!unzip /content/test_images.npy.zip"
      ],
      "execution_count": 5,
      "outputs": [
        {
          "output_type": "stream",
          "text": [
            "Archive:  /content/train_images.npy.zip\n",
            "  inflating: train_images.npy        \n",
            "Archive:  /content/test_images.npy.zip\n",
            "  inflating: test_images.npy         \n"
          ],
          "name": "stdout"
        }
      ]
    },
    {
      "cell_type": "code",
      "metadata": {
        "id": "EQ9yPgCIYU5w",
        "colab_type": "code",
        "outputId": "2865f749-5432-4cc8-a5e6-86e2cdfc973d",
        "colab": {
          "base_uri": "https://localhost:8080/",
          "height": 88
        }
      },
      "source": [
        "# load training data into memory and randomly allocate 10% of it to a validation\n",
        "train_images = np.load(\"train_images.npy\")\n",
        "test_images = np.load(\"test_images.npy\")\n",
        "\n",
        "train_labels = np.loadtxt(open(\"train_labels.csv\", \"rb\"), delimiter=\",\", skiprows=1)\n",
        "train_labels = train_labels[:, 1]\n",
        "\n",
        "# normalize the images\n",
        "train_images, test_images = train_images / 255.0, test_images / 255.0\n",
        "\n",
        "train_images = train_images.reshape(*train_images.shape, 1)\n",
        "test_images = test_images.reshape(*test_images.shape, 1)\n",
        "\n",
        "from sklearn.model_selection import train_test_split\n",
        "train_images, valid_images, train_labels, valid_labels = train_test_split(train_images, train_labels, test_size=0.1, random_state=12345)\n",
        "\n",
        "print(train_images.shape)\n",
        "print(valid_images.shape)\n",
        "print(train_labels.shape)\n",
        "print(valid_labels.shape)"
      ],
      "execution_count": 6,
      "outputs": [
        {
          "output_type": "stream",
          "text": [
            "(45000, 28, 28, 1)\n",
            "(5000, 28, 28, 1)\n",
            "(45000,)\n",
            "(5000,)\n"
          ],
          "name": "stdout"
        }
      ]
    },
    {
      "cell_type": "code",
      "metadata": {
        "id": "E8uyYAffaCxJ",
        "colab_type": "code",
        "outputId": "10db7936-4db4-4ed5-c28a-cffde942a623",
        "colab": {
          "base_uri": "https://localhost:8080/",
          "height": 265
        }
      },
      "source": [
        "# from slack. For visualizing an image from the dataset\n",
        "\n",
        "import matplotlib.pyplot as plt\n",
        "\n",
        "def show_image(arr):\n",
        "    two_d = (np.reshape(arr, (28, 28)) * 255).astype(np.uint8)\n",
        "    plt.imshow(two_d, interpolation='nearest')\n",
        "    plt.show()\n",
        "\n",
        "show_image(train_images[3]) # 0 is the index of the training image you want to display"
      ],
      "execution_count": 7,
      "outputs": [
        {
          "output_type": "display_data",
          "data": {
            "image/png": "[encoded data removed]",
            "text/plain": [
              "<Figure size 432x288 with 1 Axes>"
            ]
          },
          "metadata": {
            "tags": []
          }
        }
      ]
    },
    {
      "cell_type": "code",
      "metadata": {
        "id": "leM-IVLIaVSz",
        "colab_type": "code",
        "outputId": "b52c88d4-8230-4adc-bbe0-b9064fa7f4c4",
        "colab": {
          "base_uri": "https://localhost:8080/",
          "height": 35
        }
      },
      "source": [
        "# import tensorflow\n",
        "\n",
        "from __future__ import absolute_import, division, print_function, unicode_literals\n",
        "\n",
        "# Install TensorFlow\n",
        "try:\n",
        "  # %tensorflow_version only exists in Colab.\n",
        "  %tensorflow_version 2.x\n",
        "except Exception:\n",
        "  pass\n",
        "\n",
        "import tensorflow as tf"
      ],
      "execution_count": 8,
      "outputs": [
        {
          "output_type": "stream",
          "text": [
            "TensorFlow 2.x selected.\n"
          ],
          "name": "stdout"
        }
      ]
    },
    {
      "cell_type": "code",
      "metadata": {
        "id": "jFI_5KBSasOy",
        "colab_type": "code",
        "outputId": "165e0af7-b62c-4cf2-af98-64a5268a24a1",
        "colab": {
          "base_uri": "https://localhost:8080/",
          "height": 660
        }
      },
      "source": [
        "# define keras model\n",
        "\n",
        "model = tf.keras.models.Sequential([\n",
        "    tf.keras.layers.Conv2D(32, kernel_size=3, activation='relu',padding='same',input_shape=(28, 28, 1)),\n",
        "    tf.keras.layers.Conv2D(32, kernel_size=3, activation='relu',padding='same'),\n",
        "    tf.keras.layers.MaxPooling2D(pool_size=2),\n",
        "    tf.keras.layers.Dropout(0.15),\n",
        "    tf.keras.layers.Conv2D(64, kernel_size=3, activation='relu'),\n",
        "    tf.keras.layers.BatchNormalization(),\n",
        "    tf.keras.layers.MaxPooling2D(pool_size=2),\n",
        "    tf.keras.layers.Dropout(0.2),\n",
        "    tf.keras.layers.Flatten(),\n",
        "    tf.keras.layers.Dense(256, activation='relu'),\n",
        "    tf.keras.layers.BatchNormalization(),\n",
        "    tf.keras.layers.Dropout(0.2),\n",
        "    tf.keras.layers.Dense(64, activation='relu'),\n",
        "    tf.keras.layers.Dense(10, activation='softmax')\n",
        "])\n",
        "\n",
        "# display model summary and compile it\n",
        "model.summary()\n",
        "model.compile(optimizer='adam',\n",
        "              loss='sparse_categorical_crossentropy',\n",
        "              metrics=['accuracy'])"
      ],
      "execution_count": 52,
      "outputs": [
        {
          "output_type": "stream",
          "text": [
            "Model: \"sequential_22\"\n",
            "_________________________________________________________________\n",
            "Layer (type)                 Output Shape              Param #   \n",
            "=================================================================\n",
            "conv2d_55 (Conv2D)           (None, 28, 28, 32)        320       \n",
            "_________________________________________________________________\n",
            "conv2d_56 (Conv2D)           (None, 28, 28, 32)        9248      \n",
            "_________________________________________________________________\n",
            "max_pooling2d_43 (MaxPooling (None, 14, 14, 32)        0         \n",
            "_________________________________________________________________\n",
            "dropout_53 (Dropout)         (None, 14, 14, 32)        0         \n",
            "_________________________________________________________________\n",
            "conv2d_57 (Conv2D)           (None, 12, 12, 64)        18496     \n",
            "_________________________________________________________________\n",
            "batch_normalization_12 (Batc (None, 12, 12, 64)        256       \n",
            "_________________________________________________________________\n",
            "max_pooling2d_44 (MaxPooling (None, 6, 6, 64)          0         \n",
            "_________________________________________________________________\n",
            "dropout_54 (Dropout)         (None, 6, 6, 64)          0         \n",
            "_________________________________________________________________\n",
            "flatten_22 (Flatten)         (None, 2304)              0         \n",
            "_________________________________________________________________\n",
            "dense_55 (Dense)             (None, 256)               590080    \n",
            "_________________________________________________________________\n",
            "batch_normalization_13 (Batc (None, 256)               1024      \n",
            "_________________________________________________________________\n",
            "dropout_55 (Dropout)         (None, 256)               0         \n",
            "_________________________________________________________________\n",
            "dense_56 (Dense)             (None, 64)                16448     \n",
            "_________________________________________________________________\n",
            "dense_57 (Dense)             (None, 10)                650       \n",
            "=================================================================\n",
            "Total params: 636,522\n",
            "Trainable params: 635,882\n",
            "Non-trainable params: 640\n",
            "_________________________________________________________________\n"
          ],
          "name": "stdout"
        }
      ]
    },
    {
      "cell_type": "code",
      "metadata": {
        "id": "eSnT89t2a397",
        "colab_type": "code",
        "outputId": "fff53622-3373-47a1-f2d7-04b6a7c22adb",
        "colab": {
          "base_uri": "https://localhost:8080/",
          "height": 966
        }
      },
      "source": [
        "model.fit(train_images, train_labels,  epochs=25, validation_data=(valid_images, valid_labels))"
      ],
      "execution_count": 53,
      "outputs": [
        {
          "output_type": "stream",
          "text": [
            "Train on 45000 samples, validate on 5000 samples\n",
            "Epoch 1/25\n",
            "45000/45000 [==============================] - 17s 381us/sample - loss: 0.6127 - accuracy: 0.7730 - val_loss: 0.4274 - val_accuracy: 0.8394\n",
            "Epoch 2/25\n",
            "45000/45000 [==============================] - 15s 340us/sample - loss: 0.4521 - accuracy: 0.8314 - val_loss: 0.4263 - val_accuracy: 0.8562\n",
            "Epoch 3/25\n",
            "45000/45000 [==============================] - 15s 341us/sample - loss: 0.3975 - accuracy: 0.8515 - val_loss: 0.3563 - val_accuracy: 0.8706\n",
            "Epoch 4/25\n",
            "45000/45000 [==============================] - 15s 342us/sample - loss: 0.3721 - accuracy: 0.8618 - val_loss: 0.3366 - val_accuracy: 0.8752\n",
            "Epoch 5/25\n",
            "45000/45000 [==============================] - 15s 336us/sample - loss: 0.3500 - accuracy: 0.8690 - val_loss: 0.3392 - val_accuracy: 0.8746\n",
            "Epoch 6/25\n",
            "45000/45000 [==============================] - 15s 334us/sample - loss: 0.3233 - accuracy: 0.8784 - val_loss: 0.3342 - val_accuracy: 0.8766\n",
            "Epoch 7/25\n",
            "45000/45000 [==============================] - 15s 331us/sample - loss: 0.3119 - accuracy: 0.8832 - val_loss: 0.3038 - val_accuracy: 0.8918\n",
            "Epoch 8/25\n",
            "45000/45000 [==============================] - 15s 340us/sample - loss: 0.2937 - accuracy: 0.8885 - val_loss: 0.3247 - val_accuracy: 0.8792\n",
            "Epoch 9/25\n",
            "45000/45000 [==============================] - 15s 332us/sample - loss: 0.2781 - accuracy: 0.8930 - val_loss: 0.3530 - val_accuracy: 0.8808\n",
            "Epoch 10/25\n",
            "45000/45000 [==============================] - 15s 336us/sample - loss: 0.2681 - accuracy: 0.8986 - val_loss: 0.3140 - val_accuracy: 0.8902\n",
            "Epoch 11/25\n",
            "45000/45000 [==============================] - 15s 332us/sample - loss: 0.2594 - accuracy: 0.9012 - val_loss: 0.3459 - val_accuracy: 0.8920\n",
            "Epoch 12/25\n",
            "45000/45000 [==============================] - 15s 333us/sample - loss: 0.2450 - accuracy: 0.9067 - val_loss: 0.3354 - val_accuracy: 0.8758\n",
            "Epoch 13/25\n",
            "45000/45000 [==============================] - 15s 332us/sample - loss: 0.2316 - accuracy: 0.9119 - val_loss: 0.3096 - val_accuracy: 0.8830\n",
            "Epoch 14/25\n",
            "45000/45000 [==============================] - 15s 331us/sample - loss: 0.2241 - accuracy: 0.9151 - val_loss: 0.2963 - val_accuracy: 0.8906\n",
            "Epoch 15/25\n",
            "45000/45000 [==============================] - 15s 330us/sample - loss: 0.2200 - accuracy: 0.9162 - val_loss: 0.3416 - val_accuracy: 0.8802\n",
            "Epoch 16/25\n",
            "45000/45000 [==============================] - 15s 332us/sample - loss: 0.2073 - accuracy: 0.9214 - val_loss: 0.2991 - val_accuracy: 0.8978\n",
            "Epoch 17/25\n",
            "45000/45000 [==============================] - 15s 332us/sample - loss: 0.2033 - accuracy: 0.9240 - val_loss: 0.3162 - val_accuracy: 0.8906\n",
            "Epoch 18/25\n",
            "45000/45000 [==============================] - 15s 330us/sample - loss: 0.1948 - accuracy: 0.9276 - val_loss: 0.2957 - val_accuracy: 0.8972\n",
            "Epoch 19/25\n",
            "45000/45000 [==============================] - 15s 333us/sample - loss: 0.1875 - accuracy: 0.9280 - val_loss: 0.2953 - val_accuracy: 0.9002\n",
            "Epoch 20/25\n",
            "45000/45000 [==============================] - 15s 334us/sample - loss: 0.1743 - accuracy: 0.9334 - val_loss: 0.3135 - val_accuracy: 0.8970\n",
            "Epoch 21/25\n",
            "45000/45000 [==============================] - 15s 333us/sample - loss: 0.1688 - accuracy: 0.9352 - val_loss: 0.3220 - val_accuracy: 0.8954\n",
            "Epoch 22/25\n",
            "45000/45000 [==============================] - 15s 334us/sample - loss: 0.1671 - accuracy: 0.9365 - val_loss: 0.3155 - val_accuracy: 0.9004\n",
            "Epoch 23/25\n",
            "45000/45000 [==============================] - 15s 332us/sample - loss: 0.1609 - accuracy: 0.9379 - val_loss: 0.3190 - val_accuracy: 0.8936\n",
            "Epoch 24/25\n",
            "45000/45000 [==============================] - 15s 331us/sample - loss: 0.1577 - accuracy: 0.9401 - val_loss: 0.3190 - val_accuracy: 0.9018\n",
            "Epoch 25/25\n",
            "45000/45000 [==============================] - 15s 333us/sample - loss: 0.1557 - accuracy: 0.9414 - val_loss: 0.3095 - val_accuracy: 0.9014\n"
          ],
          "name": "stdout"
        },
        {
          "output_type": "execute_result",
          "data": {
            "text/plain": [
              "<tensorflow.python.keras.callbacks.History at 0x7f30ad9f7898>"
            ]
          },
          "metadata": {
            "tags": []
          },
          "execution_count": 53
        }
      ]
    },
    {
      "cell_type": "code",
      "metadata": {
        "id": "m8GfKgGqaUV5",
        "colab_type": "code",
        "colab": {
          "base_uri": "https://localhost:8080/",
          "height": 35
        },
        "outputId": "36761dea-f32d-469e-ff3b-8dd458bde51c"
      },
      "source": [
        "# for generating submission\n",
        "\n",
        "y_test = model.predict(test_images)\n",
        "y_test = np.argmax(y_test, axis=1)\n",
        "print(y_test.shape)\n",
        "\n",
        "df_test = pd.read_csv('sample_submission.csv')\n",
        "df_test['label'] = y_test\n",
        "df_test.to_csv('submission.csv', index=False)"
      ],
      "execution_count": 55,
      "outputs": [
        {
          "output_type": "stream",
          "text": [
            "(20000,)\n"
          ],
          "name": "stdout"
        }
      ]
    }
  ]
}